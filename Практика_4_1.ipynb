{
  "nbformat": 4,
  "nbformat_minor": 0,
  "metadata": {
    "colab": {
      "provenance": [],
      "authorship_tag": "ABX9TyNWeMEzw7KfqiN3riBu8f6j",
      "include_colab_link": true
    },
    "kernelspec": {
      "name": "python3",
      "display_name": "Python 3"
    },
    "language_info": {
      "name": "python"
    }
  },
  "cells": [
    {
      "cell_type": "markdown",
      "metadata": {
        "id": "view-in-github",
        "colab_type": "text"
      },
      "source": [
        "<a href=\"https://colab.research.google.com/github/myrzenish1985-web/SeminarGIT/blob/main/%D0%9F%D1%80%D0%B0%D0%BA%D1%82%D0%B8%D0%BA%D0%B0_4_1.ipynb\" target=\"_parent\"><img src=\"https://colab.research.google.com/assets/colab-badge.svg\" alt=\"Open In Colab\"/></a>"
      ]
    },
    {
      "cell_type": "markdown",
      "source": [
        "Практика 1 модуль 4"
      ],
      "metadata": {
        "id": "owEPjoUQpr-X"
      }
    },
    {
      "cell_type": "code",
      "execution_count": null,
      "metadata": {
        "colab": {
          "base_uri": "https://localhost:8080/"
        },
        "id": "dYJ1GLeApmVn",
        "outputId": "df43218a-174e-4c42-f8ab-e1c676c3a675"
      },
      "outputs": [
        {
          "output_type": "stream",
          "name": "stdout",
          "text": [
            "Hello, word!\n"
          ]
        }
      ],
      "source": [
        "# Задание 1\n",
        "\n",
        "print ('Hello, word!')"
      ]
    },
    {
      "cell_type": "code",
      "source": [
        "# Задание 2\n",
        "\n",
        "print('4°C', '8°C', '15°C', '16°C', '23°C','42°C')"
      ],
      "metadata": {
        "colab": {
          "base_uri": "https://localhost:8080/"
        },
        "id": "G_JKtFINq2X-",
        "outputId": "49e0efcd-df2b-41ce-f2b4-859e581d5621"
      },
      "execution_count": null,
      "outputs": [
        {
          "output_type": "stream",
          "name": "stdout",
          "text": [
            "4°C 8°C 15°C 16°C 23°C 42°C\n"
          ]
        }
      ]
    },
    {
      "cell_type": "code",
      "source": [
        "# Задание 3\n",
        "\n",
        "a='*'\n",
        "\n",
        "print(a*1)\n",
        "print(a*2)\n",
        "print(a*3)\n",
        "print(a*4)\n",
        "print(a*5)\n",
        "print(a*6)\n",
        "print(a*7)"
      ],
      "metadata": {
        "colab": {
          "base_uri": "https://localhost:8080/"
        },
        "id": "rmE6ZJEFuTz9",
        "outputId": "9661450f-bc4e-45e7-bd0e-c2bd0be440e8"
      },
      "execution_count": null,
      "outputs": [
        {
          "output_type": "stream",
          "name": "stdout",
          "text": [
            "*\n",
            "**\n",
            "***\n",
            "****\n",
            "*****\n",
            "******\n",
            "*******\n"
          ]
        }
      ]
    },
    {
      "cell_type": "code",
      "source": [
        "# Задание 4\n",
        "a=1200000\n",
        "b=1350000\n",
        "c=1280000\n",
        "v=1420000\n",
        "print('Отчет о доходах:\\n1 квартал:',a,'руб.\\n2 квартал:', b,'руб.\\n3 квартал:', c,'руб.\\n4 квартал:',v,'руб.')"
      ],
      "metadata": {
        "colab": {
          "base_uri": "https://localhost:8080/"
        },
        "id": "tuIvEPIautVe",
        "outputId": "e25f1827-2d51-424e-94fd-4944525d4182"
      },
      "execution_count": null,
      "outputs": [
        {
          "output_type": "stream",
          "name": "stdout",
          "text": [
            "Отчет о доходах:\n",
            "1 квартал: 1200000 руб.\n",
            "2 квартал: 1350000 руб.\n",
            "3 квартал: 1280000 руб.\n",
            "4 квартал: 1420000 руб.\n"
          ]
        }
      ]
    },
    {
      "cell_type": "code",
      "source": [
        "# Задание 5\n",
        "\n",
        "print ('Привет, напиши свое имя')\n",
        "name = input ()\n",
        "print (f'Добро пожаловать в команду, {name}!')\n"
      ],
      "metadata": {
        "colab": {
          "base_uri": "https://localhost:8080/"
        },
        "id": "ZhUtjF44w-Je",
        "outputId": "53bd30e7-6cdd-4d70-ee89-69264d0f808f"
      },
      "execution_count": null,
      "outputs": [
        {
          "output_type": "stream",
          "name": "stdout",
          "text": [
            "Привет, напиши свое имя\n",
            "Влад\n",
            "Добро пожаловать в команду, Влад!\n"
          ]
        }
      ]
    },
    {
      "cell_type": "code",
      "source": [
        "# Задание 6\n",
        "\n",
        "print('Введите название компании')\n",
        "name = input()\n",
        "print (f'{name} - лидер рынка!')"
      ],
      "metadata": {
        "colab": {
          "base_uri": "https://localhost:8080/"
        },
        "id": "g9v_Mf8mzEKF",
        "outputId": "3975dafc-545b-4e7d-ea08-d603161cf50e"
      },
      "execution_count": null,
      "outputs": [
        {
          "output_type": "stream",
          "name": "stdout",
          "text": [
            "Введите название компании\n",
            "Сбер\n",
            "Сбер - лидер рынка!\n"
          ]
        }
      ]
    },
    {
      "cell_type": "code",
      "source": [
        "#Задание 7\n",
        "\n",
        "print ('Введите название')\n",
        "name = input()\n",
        "print ('Введите число строк')\n",
        "str_c = input()\n",
        "print ('Введите число столбцов')\n",
        "count = input()\n",
        "print(name)\n",
        "print(str_c)\n",
        "print(count)"
      ],
      "metadata": {
        "colab": {
          "base_uri": "https://localhost:8080/"
        },
        "id": "YDLM3ruizoaO",
        "outputId": "deadf2f7-eda6-4028-f42b-17c27ff17bc1"
      },
      "execution_count": null,
      "outputs": [
        {
          "output_type": "stream",
          "name": "stdout",
          "text": [
            "Введите название\n",
            "Sales Q1\n",
            "Введите число строк\n",
            "1000\n",
            "Введите число столбцов\n",
            "8\n",
            "Sales Q1\n",
            "1000\n",
            "8\n"
          ]
        }
      ]
    },
    {
      "cell_type": "code",
      "source": [
        "# Задание 8 факультативно\n",
        "\n",
        "name_bib=[]\n",
        "name_bib.append('Продажи за январь')\n",
        "name_bib.append('Продажи за февраль')\n",
        "name_bib.append('Продажи за март')\n",
        "\n",
        "#name_bib.sort(reverse=False) можно еще так\n",
        "\n",
        "name_bib.reverse()\n",
        "print('\\n'.join(name_bib))\n"
      ],
      "metadata": {
        "colab": {
          "base_uri": "https://localhost:8080/"
        },
        "id": "JC6FFpA72qQG",
        "outputId": "ab7c722e-1550-46ba-da96-ed179b071bfe"
      },
      "execution_count": 39,
      "outputs": [
        {
          "output_type": "stream",
          "name": "stdout",
          "text": [
            "Продажи за март\n",
            "Продажи за февраль\n",
            "Продажи за январь\n"
          ]
        }
      ]
    },
    {
      "cell_type": "code",
      "source": [
        "#Задание 8\n",
        "\n",
        "print ('Введите название отчета 1')\n",
        "a = input()\n",
        "print ('Введите название отчета 2')\n",
        "b = input()\n",
        "print ('Введите название отчета 3')\n",
        "c = input()\n",
        "print(c)\n",
        "print(b)\n",
        "print(a)"
      ],
      "metadata": {
        "colab": {
          "base_uri": "https://localhost:8080/"
        },
        "outputId": "170e3f3b-a9a8-480b-f9d5-2152411edd2d",
        "id": "fH1CpmT570dJ"
      },
      "execution_count": 42,
      "outputs": [
        {
          "output_type": "stream",
          "name": "stdout",
          "text": [
            "Введите название отчета 1\n",
            "Продажи за январь\n",
            "Введите название отчета 2\n",
            "Продажи за февраль\n",
            "Введите название отчета 3\n",
            "Продажи за март\n",
            "Продажи за март\n",
            "Продажи за февраль\n",
            "Продажи за январь\n"
          ]
        }
      ]
    },
    {
      "cell_type": "code",
      "source": [
        "# Задача 9\n",
        "print('Введите базовую цену товара')\n",
        "base_price= int(input())\n",
        "print('Введите процент роста цены (числом)')\n",
        "growth_percent = float(input())\n",
        "\n",
        "new_price = c\n",
        "c = base_price + growth_percent*base_price\n",
        "print('new_price =', c)\n",
        "delta = c - base_price\n",
        "print('delta =', delta)"
      ],
      "metadata": {
        "colab": {
          "base_uri": "https://localhost:8080/"
        },
        "id": "BSl_Ap95AR2U",
        "outputId": "1b207824-8668-4bf0-aeb0-e848b4446191"
      },
      "execution_count": null,
      "outputs": [
        {
          "output_type": "stream",
          "name": "stdout",
          "text": [
            "Введите базовую цену товара\n",
            "100\n",
            "Введите процент роста цены\n",
            "0.2\n",
            "new_price = 120.0\n",
            "delta = 20.0\n"
          ]
        }
      ]
    },
    {
      "cell_type": "code",
      "source": [
        "#Задача 10\n",
        "a=['Северный','Центральный','Южный']\n",
        "print (*a, sep='***')"
      ],
      "metadata": {
        "colab": {
          "base_uri": "https://localhost:8080/"
        },
        "id": "ohyd_oEXDX4N",
        "outputId": "fcb39e09-8c78-4ecb-a594-7f8ac0ab4352"
      },
      "execution_count": null,
      "outputs": [
        {
          "output_type": "stream",
          "name": "stdout",
          "text": [
            "Северный***Центральный***Южный\n"
          ]
        }
      ]
    },
    {
      "cell_type": "code",
      "source": [
        "#Задача 11\n",
        "print('Введите имя аналитика ')\n",
        "name=input()\n",
        "print('Подключение установлено. Добро пожаловать,', name,end='!')"
      ],
      "metadata": {
        "colab": {
          "base_uri": "https://localhost:8080/"
        },
        "id": "_ThJthD7FGlV",
        "outputId": "10c31265-01ff-4249-b0da-6b3ba9255e8c"
      },
      "execution_count": 1,
      "outputs": [
        {
          "output_type": "stream",
          "name": "stdout",
          "text": [
            "Введите имя аналитика \n",
            "Влад\n",
            "Подключение установлено. Добро пожаловать, Влад!"
          ]
        }
      ]
    },
    {
      "cell_type": "code",
      "source": [
        "#Задача 12\n",
        "#мой вариант решения\n",
        "name_tov=['Молоко','Хлеб','Сыр']\n",
        "print(*name_tov, sep = '|')\n",
        "\n",
        "#решение по требованию блокнота\n",
        "print('название товара 1')\n",
        "name1=input()\n",
        "print('название товара 2')\n",
        "name2=input()\n",
        "print('название товара 3')\n",
        "name3=input()\n",
        "print(name1,name2,name3, sep = '|')\n"
      ],
      "metadata": {
        "colab": {
          "base_uri": "https://localhost:8080/"
        },
        "id": "0xBjsvA6G72d",
        "outputId": "bf4e2db3-bcad-4195-9795-abfdbff8a641"
      },
      "execution_count": null,
      "outputs": [
        {
          "output_type": "stream",
          "name": "stdout",
          "text": [
            "Молоко|Хлеб|Сыр\n",
            "название товара 1\n",
            "Молоко\n",
            "название товара 2\n",
            "Хлеб\n",
            "название товара 3\n",
            "Сыр\n",
            "Молоко|Хлеб|Сыр\n"
          ]
        }
      ]
    },
    {
      "cell_type": "code",
      "source": [
        "#Задача13\n",
        "\n",
        "print('Введите число')\n",
        "a = float(input())\n",
        "a_int=int(a)\n",
        "\n",
        "print(a_int)"
      ],
      "metadata": {
        "colab": {
          "base_uri": "https://localhost:8080/"
        },
        "id": "n5VZvNeRJOCO",
        "outputId": "3510c62c-72e8-4cd0-caca-3b7188d6578b"
      },
      "execution_count": null,
      "outputs": [
        {
          "output_type": "stream",
          "name": "stdout",
          "text": [
            "Введите число\n",
            "9.7676\n",
            "9\n"
          ]
        }
      ]
    },
    {
      "cell_type": "code",
      "source": [
        "#Задача 14\n",
        "orders_yesterday=10\n",
        "plan=20\n",
        "\n",
        "abs_diff = abs(plan-orders_yesterday)\n",
        "print('Абсолютное отклонение от плана равняется', abs_diff)"
      ],
      "metadata": {
        "id": "qZGkHLNaL8B9",
        "colab": {
          "base_uri": "https://localhost:8080/"
        },
        "outputId": "8f42082d-4a3c-4e9a-c082-ec4df3098931"
      },
      "execution_count": 4,
      "outputs": [
        {
          "output_type": "stream",
          "name": "stdout",
          "text": [
            "Абсолютное отклонение от плана равняется 10\n"
          ]
        }
      ]
    },
    {
      "cell_type": "code",
      "source": [
        "#Задача 15\n",
        "\n",
        "numbers = [input() for _ in range(5)]\n",
        "\n",
        "# Выводим прочитанные числа\n",
        "print(numbers)\n",
        "\n",
        "min_num=min(numbers)\n",
        "max_num=max(numbers)\n",
        "\n",
        "print('Наименьшее число =',min_num)\n",
        "print('Наибольшее число =',max_num)"
      ],
      "metadata": {
        "colab": {
          "base_uri": "https://localhost:8080/"
        },
        "id": "SMV5ADTjONMt",
        "outputId": "893458dc-c1e8-4e7f-d9e1-2a67b62510b0"
      },
      "execution_count": 8,
      "outputs": [
        {
          "output_type": "stream",
          "name": "stdout",
          "text": [
            "1\n",
            "2\n",
            "3\n",
            "4\n",
            "5\n",
            "['1', '2', '3', '4', '5']\n",
            "Наименьшее число = 1\n",
            "Наибольшее число = 5\n"
          ]
        }
      ]
    },
    {
      "cell_type": "code",
      "source": [
        "# Задача 16\n",
        "print ('Привет! Как твое имя?')\n",
        "name=input()\n",
        "print ('Напиши свою фамилию?')\n",
        "surname = input()\n",
        "print(f'Привет,{name} {surname}! Вы только что начали изучать Python')\n",
        "\n"
      ],
      "metadata": {
        "colab": {
          "base_uri": "https://localhost:8080/"
        },
        "id": "lGB6Yx2ZVBqv",
        "outputId": "f326ce62-dc07-40ae-fae3-0322a98edd48"
      },
      "execution_count": 13,
      "outputs": [
        {
          "output_type": "stream",
          "name": "stdout",
          "text": [
            "Привет! Как твое имя?\n",
            "Антон\n",
            "Напиши свою фамилию?\n",
            "Иванов\n",
            "Привет,Антон Иванов! Вы только что начали изучать Python\n"
          ]
        }
      ]
    },
    {
      "cell_type": "code",
      "source": [
        "# Задача 17\n",
        "print('Введите первую часть цитаты')\n",
        "a=input()\n",
        "print('Введите вторую часть цитаты')\n",
        "b=input()\n",
        "\n",
        "print(a,b)"
      ],
      "metadata": {
        "colab": {
          "base_uri": "https://localhost:8080/"
        },
        "id": "gCZw3PJDX7Sj",
        "outputId": "36395920-f208-4b63-f4a5-354f4d467e59"
      },
      "execution_count": 17,
      "outputs": [
        {
          "output_type": "stream",
          "name": "stdout",
          "text": [
            "Введите первую часть цитаты\n",
            "«Каждый в этой стране должен научиться программировать,\n",
            "Введите вторую часть цитаты\n",
            "потому что это учит думать.»\n",
            "«Каждый в этой стране должен научиться программировать, потому что это учит думать.»\n"
          ]
        }
      ]
    },
    {
      "cell_type": "code",
      "source": [
        "# Задача 18\n",
        "\n",
        "sum=int(input('Введите сумму покупки: '))\n",
        "print(sum > 1000)\n",
        "\n",
        "\n"
      ],
      "metadata": {
        "colab": {
          "base_uri": "https://localhost:8080/"
        },
        "id": "f7tsFnZVYvle",
        "outputId": "2d9edf4a-851d-45f7-ba59-f3e23d19da15"
      },
      "execution_count": 21,
      "outputs": [
        {
          "output_type": "stream",
          "name": "stdout",
          "text": [
            "Введите целое число: 999\n",
            "False\n"
          ]
        }
      ]
    },
    {
      "cell_type": "code",
      "source": [
        "# Задача 19\n",
        "\n",
        "age=int(input('Введите ваш возраст: '))\n",
        "print(age >= 18)"
      ],
      "metadata": {
        "colab": {
          "base_uri": "https://localhost:8080/"
        },
        "id": "hovewtV4aRpf",
        "outputId": "9030175d-5716-47df-fc69-157f4e7e1d24"
      },
      "execution_count": 22,
      "outputs": [
        {
          "output_type": "stream",
          "name": "stdout",
          "text": [
            "Введите ваш возраст: 16\n",
            "False\n"
          ]
        }
      ]
    },
    {
      "cell_type": "code",
      "source": [
        "# Задание 20\n",
        "\n",
        "V1 = 50\n",
        "V2 = 70\n",
        "S = 500\n",
        "\n",
        "t = S / (V1+V2)\n",
        "print(t)"
      ],
      "metadata": {
        "colab": {
          "base_uri": "https://localhost:8080/"
        },
        "id": "hGHzlRJibG_e",
        "outputId": "fa2b766b-3520-4664-a3d9-2c4a8fb19ffc"
      },
      "execution_count": 25,
      "outputs": [
        {
          "output_type": "stream",
          "name": "stdout",
          "text": [
            "4.166666666666667\n"
          ]
        }
      ]
    },
    {
      "cell_type": "code",
      "source": [
        "# Задание 21\n",
        "\n",
        "a = 443\n",
        "b = 390\n",
        "s = a*b/2\n",
        "print(s)"
      ],
      "metadata": {
        "colab": {
          "base_uri": "https://localhost:8080/"
        },
        "id": "nTtf9ZddewP4",
        "outputId": "1271673a-5f1d-4e7b-f4b3-a8f39962b1de"
      },
      "execution_count": 26,
      "outputs": [
        {
          "output_type": "stream",
          "name": "stdout",
          "text": [
            "86385.0\n"
          ]
        }
      ]
    },
    {
      "cell_type": "code",
      "source": [
        "# Задание 22\n",
        "print ('Введите значение температуры по шкале Фаренгейта')\n",
        "temp_f=float(input())\n",
        "temp_c=5/9*(temp_f-32)\n",
        "print('Температура по шкале Цельсия', temp_c)"
      ],
      "metadata": {
        "colab": {
          "base_uri": "https://localhost:8080/"
        },
        "id": "gBpThlusfOFP",
        "outputId": "b06c719d-9dab-4bc8-cfe9-63f4200b602e"
      },
      "execution_count": 30,
      "outputs": [
        {
          "output_type": "stream",
          "name": "stdout",
          "text": [
            "Введите значение температуры по шкале Фаренгейта\n",
            "450.55\n",
            "Температура по шкале Цельсия 232.5277777777778\n"
          ]
        }
      ]
    },
    {
      "cell_type": "code",
      "source": [
        "# Задание 23\n",
        "\n",
        "revenue_str = 438746.78\n",
        "courier_name = 'Влад'\n",
        "\n",
        "report=int(revenue_str)*0.01\n",
        "print(f'report = Курьер {courier_name} получит бонус {round(report)} р.')"
      ],
      "metadata": {
        "colab": {
          "base_uri": "https://localhost:8080/"
        },
        "id": "Yp4Ezrb9gccu",
        "outputId": "3b252a59-b51f-4a62-e342-c7e0b280113c"
      },
      "execution_count": 37,
      "outputs": [
        {
          "output_type": "stream",
          "name": "stdout",
          "text": [
            "report = Курьер Влад получит бонус 4387 р.\n"
          ]
        }
      ]
    }
  ]
}